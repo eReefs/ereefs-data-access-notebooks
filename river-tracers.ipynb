{
 "cells": [
  {
   "cell_type": "markdown",
   "id": "1f92a387-ae5f-42d5-b547-eb75e2c7ab70",
   "metadata": {},
   "source": [
    "# River tracers\n",
    "\n",
    "A visualisation of passive river tracers for the Don, O'Connell, and Pioneer rivers near the Whitsundays.\n",
    "Passive river tracer results derived from version 2.0 of the 1km-resolution shelf-scale hydrodynamic model of the Great Barrier Reef (GBR1)."
   ]
  },
  {
   "cell_type": "code",
   "execution_count": null,
   "id": "5a96b261-a3ce-4236-8a54-6a86824012ec",
   "metadata": {},
   "outputs": [],
   "source": [
    "import cartopy\n",
    "import emsarray\n",
    "import matplotlib.colors\n",
    "import matplotlib.figure\n",
    "import matplotlib.pyplot as plt\n",
    "import matplotlib.quiver\n",
    "import numpy\n",
    "import pandas\n",
    "import shapely\n",
    "import xarray\n",
    "\n",
    "# width, height in pixels\n",
    "IMAGE_SIZE = (1000, 1000)\n",
    "DPI = 100 # matplotlib default\n",
    "\n",
    "# The plot will cover this region, expanding as required to match the aspect ratio set in IMAGE_SIZE.\n",
    "# The coordinates represent the (west, east, south, north) sides of a region that will be plotted.\n",
    "MAP_EXTENT = (147.80, 149.60, -21.35, -19.55)\n",
    "\n",
    "RIVERS_URL = 'https://thredds.nci.org.au/thredds/dodsC/fx3/model_data/gbr1_2.0_rivers.ncml'\n",
    "RIVERS_TIMESTEP = '2022-03-01T14:00:00.00000000'\n",
    "\n",
    "MODIS_TIMESTEP = '2022-03-01'"
   ]
  },
  {
   "cell_type": "markdown",
   "id": "615cc4b6-ef0b-44ed-94ed-9431aa47a8bb",
   "metadata": {},
   "source": [
    "Open the GBR1 v2.0 rivers dataset and select one time step at the ocean surface."
   ]
  },
  {
   "cell_type": "code",
   "execution_count": null,
   "id": "831e978e-9d71-4a0e-8ca0-7e0c9809ec44",
   "metadata": {},
   "outputs": [],
   "source": [
    "rivers_dataset = emsarray.open_dataset(RIVERS_URL, decode_timedelta=False)\n",
    "\n",
    "rivers_dataset = rivers_dataset.set_coords(['time', 'zc'])\n",
    "rivers_dataset = rivers_dataset.set_xindex(['zc'])\n",
    "rivers_dataset = rivers_dataset.sel(time=RIVERS_TIMESTEP, zc=0.5)"
   ]
  },
  {
   "cell_type": "markdown",
   "id": "38a8ccad-970a-493a-bbe0-61253715263b",
   "metadata": {},
   "source": [
    "Select the rivers we are interested in and scale the values to make the finer detail more prominent."
   ]
  },
  {
   "cell_type": "code",
   "execution_count": null,
   "id": "bda170d1-0901-4b4e-86b8-44b0b3e82935",
   "metadata": {},
   "outputs": [],
   "source": [
    "# Collect the Don, O'Connell, and Pioneer river tracers\n",
    "river_names = [\n",
    "    'don', # Don River\n",
    "    'con', # O'Connell River\n",
    "    'pio', # Pioneer River\n",
    "]\n",
    "rivers_dataset = rivers_dataset.ems.select_variables(river_names)\n",
    "rivers_dataset.load()\n",
    "convention = rivers_dataset.ems\n",
    "\n",
    "# Make a DataArray with each of the rivers stacked along a new dimension 'tracer'.\n",
    "river_tracers = xarray.concat([\n",
    "    rivers_dataset[name].assign_coords({'tracer': name})\n",
    "    for name in river_names\n",
    "], dim='tracer')\n",
    "river_tracers.name = 'tracers'\n",
    "\n",
    "# Find the maximum tracer concentration across the entire domain.\n",
    "# Scale this maximum down - the tracer is most concentrated at the river\n",
    "# mouth and dissipates quickly, so most of the interesting detail is in the\n",
    "# lower numbers.\n",
    "river_max = river_tracers.max() / 32\n",
    "\n",
    "# Normalise the tracer concentration using a power function.\n",
    "# This will enhance lower concentrations.\n",
    "# clip=True is required to keep values between 0 and 1 as we scaled the river max down\n",
    "norm = matplotlib.colors.PowerNorm(0.3, vmin=0, vmax=river_max, clip=True)\n",
    "river_tracers = xarray.DataArray(\n",
    "    data=norm(river_tracers.values),\n",
    "    dims=river_tracers.dims,\n",
    "    coords=river_tracers.coords\n",
    ")\n",
    "\n",
    "# Scale it such that the maximum tracer sum in any cell is 1\n",
    "# river_tracers = river_tracers / river_tracers.sum(dim='tracer').max()"
   ]
  },
  {
   "cell_type": "markdown",
   "id": "b26763b5-a47b-4403-9441-21080fcb3274",
   "metadata": {},
   "source": [
    "Assign a colour to each river, plus a colour for the ocean"
   ]
  },
  {
   "cell_type": "code",
   "execution_count": null,
   "id": "19ab1d82-9186-47dd-9994-a0a88f89635f",
   "metadata": {},
   "outputs": [],
   "source": [
    "# Assume that anything that isn't tracer is ocean water\n",
    "ocean = 1 - river_tracers.sum(dim='tracer')\n",
    "ocean = xarray.where(numpy.isnan(river_tracers).any(dim='tracer'), numpy.nan, ocean)\n",
    "ocean = ocean.assign_coords({'tracer': 'ocean'})\n",
    "all_tracers = xarray.concat([river_tracers, ocean], dim='tracer')\n",
    "\n",
    "# The colours for the river tracers and for ocean water.\n",
    "# I've tried a few different colour schemes. This is the best I've come up with.\n",
    "# Feel free to experiment!\n",
    "colour_dark = [\n",
    "    [127, 191, 0, 255],\n",
    "    [191, 0, 127, 255],\n",
    "    [0, 127, 191, 255],\n",
    "    [0, 0, 0, 255],\n",
    "]\n",
    "colour_light = [\n",
    "    [64, 128, 0, 255],\n",
    "    [128, 0, 64, 255],\n",
    "    [0, 64, 128, 255],\n",
    "    [255, 255, 255, 255],\n",
    "]\n",
    "ocean_colours = xarray.DataArray(\n",
    "    data=colour_dark,\n",
    "    dims=['tracer', 'component'],\n",
    "    coords={\n",
    "        'tracer': all_tracers.coords['tracer'],\n",
    "        'component': ['r', 'g', 'b', 'a'],\n",
    "    },\n",
    ")\n",
    "ocean_colours = ocean_colours / 255"
   ]
  },
  {
   "cell_type": "markdown",
   "id": "1c28fced-da86-42ff-99d1-9bac655003a8",
   "metadata": {},
   "source": [
    "Plot the river tracers overlayed on MODIS true colour satellite imagery from NASA GIBS."
   ]
  },
  {
   "cell_type": "code",
   "execution_count": null,
   "id": "b0d8d5e1-5806-4f1d-b5e9-2a5252c3f62c",
   "metadata": {},
   "outputs": [],
   "source": [
    "# Set up the figure for plotting\n",
    "figure = plt.figure(\n",
    "    figsize=tuple(i / DPI for i in IMAGE_SIZE),\n",
    "    dpi=DPI,\n",
    "    layout='constrained')\n",
    "\n",
    "axes = figure.add_subplot(projection=cartopy.crs.PlateCarree())\n",
    "plt.title(\"River tracer concentration\")\n",
    "    \n",
    "# Cover the map extent with the plot, expanding the extent as necessary to\n",
    "# keep the image aspect ratio.\n",
    "axes.set_extent(MAP_EXTENT)\n",
    "axes.set_aspect('equal', adjustable='datalim')\n",
    "\n",
    "# Add MODIS baselayer from NASA GIBS\n",
    "axes.add_wms(\n",
    "    wms='https://gibs.earthdata.nasa.gov/wms/epsg4326/best/wms.cgi',\n",
    "    layers=['MODIS_Terra_CorrectedReflectance_TrueColor'],\n",
    "    wms_kwargs={'time': MODIS_TIMESTEP},\n",
    ")\n",
    "\n",
    "cell_colours = (all_tracers * ocean_colours).sum(dim='tracer')\n",
    "cell_colours = cell_colours.clip(min=0., max=1.)\n",
    "cell_colours = convention.ravel(cell_colours).transpose()[convention.mask].values\n",
    "axes.add_collection(convention.make_poly_collection(\n",
    "    color=cell_colours,\n",
    "    edgecolor=\"face\",\n",
    "))\n",
    "\n",
    "river_patches = [\n",
    "    matplotlib.patches.Patch(\n",
    "        color=river.values,\n",
    "        label=rivers_dataset[river.coords['tracer'].values.item()].attrs['long_name'],\n",
    "    )\n",
    "    for river in ocean_colours[ocean_colours.coords['tracer'] != 'ocean'].transpose('tracer', ...)\n",
    "]\n",
    "axes.legend(handles=river_patches, loc='lower left')\n",
    "\n",
    "axes.text(\n",
    "    0.99, 0.01, \"Satellite imagery provided by NASA's Global Imagery Browse Services (GIBS),\\npart of NASA's Earth Science Data and Information System (ESDIS).\",\n",
    "    transform=axes.transAxes,\n",
    "    horizontalalignment='right', verticalalignment='bottom',\n",
    "    bbox=dict(facecolor='white', alpha=0.5, edgecolor='black', linewidth=1),\n",
    ")\n"
   ]
  }
 ],
 "metadata": {
  "kernelspec": {
   "display_name": "Python 3 (ipykernel)",
   "language": "python",
   "name": "python3"
  },
  "language_info": {
   "codemirror_mode": {
    "name": "ipython",
    "version": 3
   },
   "file_extension": ".py",
   "mimetype": "text/x-python",
   "name": "python",
   "nbconvert_exporter": "python",
   "pygments_lexer": "ipython3",
   "version": "3.12.10"
  }
 },
 "nbformat": 4,
 "nbformat_minor": 5
}
