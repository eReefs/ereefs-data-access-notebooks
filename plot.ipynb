{
 "cells": [
  {
   "cell_type": "markdown",
   "metadata": {},
   "source": [
    "## Plot"
   ]
  },
  {
   "cell_type": "markdown",
   "metadata": {},
   "source": [
    "This is a tutorial borrowed heavily from the EMSArray notebooks that shows how we can use EMSArray to create plots based on the eREEFS data.\n",
    "Lets use the eREEFS platform to get some ammonia data for the GBR1 dataset."
   ]
  },
  {
   "cell_type": "markdown",
   "metadata": {},
   "source": [
    "Starting From The eReefs visportal:\n",
    "![Alt text](Assets/ereefs_map.png)"
   ]
  },
  {
   "cell_type": "markdown",
   "metadata": {},
   "source": [
    "Let us load in the GBR4 data:\n",
    "![Alt text](Assets/001_browse_data_catalogue.png)\n",
    "\n",
    "Clicking on the eReefs model Results:\n",
    "![Alt text](Assets/002_ereefs_data.png)\n"
   ]
  },
  {
   "cell_type": "markdown",
   "metadata": {},
   "source": [
    "Let us add the Ammonia(NH4) layer to our ereefs visportal:\n",
    "![Alt text](Assets/003_plotted.png)\n",
    "\n",
    "\n",
    "We can click the small information icon on our newly added layer in the top right to see where eReefs is pulling this data from:\n",
    "![Alt text](Assets/004_get_opendap_link.png)\n",
    "\n",
    "\n",
    "Now lets copy our OPENDAP link to get started using EMS ARRAY to generate our own plots.\n",
    "\n",
    "This should give us a link (https://dapds00.nci.org.au/thredds/dodsC/fx3/model_data/gbr4_bgc_GBR4_H2p0_B2p0_Chyd_Dcrt.ncml) which we can now use with emsarray!\n",
    "\n",
    "Lets show how we can do our own simple plot with a selected subset from this dataset."
   ]
  },
  {
   "cell_type": "code",
   "execution_count": 2,
   "metadata": {},
   "outputs": [],
   "source": [
    "import cartopy\n",
    "import cartopy.crs as ccrs\n",
    "import cartopy.io.img_tiles as cimgt\n",
    "import emsarray as ems\n",
    "import matplotlib.pyplot as plt\n",
    "import numpy as np\n",
    "from emsarray.plot import bounds_to_extent\n",
    "from emsarray.utils import datetime_from_np_time\n",
    "from matplotlib.collections import PatchCollection\n",
    "from shapely.geometry import box\n",
    "import shapefile\n",
    "\n",
    "dataset = ems.open_dataset(\"https://dapds00.nci.org.au/thredds/dodsC/fx3/model_data/gbr4_bgc_GBR4_H2p0_B2p0_Chyd_Dcrt.ncml\")\n",
    "dataset = dataset.isel(time=0)\n",
    "plt.rcParams['figure.dpi'] = 100\n",
    "plt.rcParams['figure.figsize'] = (8, 5)\n",
    "plt.rcParams['savefig.dpi'] = 100\n",
    "shapefile.VERBOSE = False"
   ]
  },
  {
   "cell_type": "markdown",
   "metadata": {},
   "source": [
    "\n",
    "The data will be plotted on a map, wih coastlines overlayed. A colour ramp will be applied and automatically scaled to the range of the data.\n"
   ]
  }
 ],
 "metadata": {
  "kernelspec": {
   "display_name": "py3_parcels",
   "language": "python",
   "name": "python3"
  },
  "language_info": {
   "codemirror_mode": {
    "name": "ipython",
    "version": 3
   },
   "file_extension": ".py",
   "mimetype": "text/x-python",
   "name": "python",
   "nbconvert_exporter": "python",
   "pygments_lexer": "ipython3",
   "version": "3.9.16"
  }
 },
 "nbformat": 4,
 "nbformat_minor": 2
}
