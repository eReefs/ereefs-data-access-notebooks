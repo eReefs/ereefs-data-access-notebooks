{
 "cells": [
  {
   "cell_type": "markdown",
   "metadata": {},
   "source": [
    "## True Colour Estimate\n",
    "\n",
    "The OGC Web Processing Service (WPS) provides a number of HTTP-accessible functions that operate on gridded data (OPENDAP endpoints of THREDDS).\n",
    "\n",
    "For this case, we will consider the ncwps service, and try to use the GBR4 bio geochemistry to simulate a true colour plot that uses remote sensing derived data to simulate what the true colour of the plot may look like if there were no clouds. \n",
    "\n",
    "To do this, we need to construct our query url to the data portal on ereefs. The base url for this is located at https://data.ereefs.info\n",
    "\n",
    "We can use the NCWPS and pass it an openDAP url like the ones we used in the plot and animation notebooks in this repository. \n",
    "\n",
    "The following is the base URL for the GetSurfacePlotSimulatedTrueColour NCWPS end point: \n",
    "https://data.ereefs.info/ncwps/?ServiceProvider=&metapath=&Service=WPS&Request=Execute&Version=1.0.0&Identifier=GetSurfacePlotSimulatedTrueColour\n",
    "\n",
    "\n",
    "The GetSurfacePlotSimulatedTrueColour endpoint uses the Biogeochemstry data to simulate the true colour of a region. \n",
    "\n",
    "Let us use eREEFS to find a good biogeochemistry base layer from the DAP.\n",
    "\n",
    "![Alt text](image.png)\n"
   ]
  },
  {
   "cell_type": "code",
   "execution_count": 1,
   "metadata": {},
   "outputs": [],
   "source": [
    "base_url = 'https://data.ereefs.info/ncwps/?ServiceProvider=&metapath=&Service=WPS&Request=Execute&Version=1.0.0&Identifier=GetSurfacePlotSimulatedTrueColour&DataInputs='"
   ]
  },
  {
   "cell_type": "markdown",
   "metadata": {},
   "source": [
    "For this example, we will use the GBR4 data, and thus use the dap URL of: https://dapds00.nci.org.au/thredds/dodsC/fx3/model_data/gbr4_bgc_GBR4_H2p0_B2p0_Chyd_Dcrt.ncml\n",
    "as our dap URL. \n",
    "\n"
   ]
  },
  {
   "cell_type": "code",
   "execution_count": 2,
   "metadata": {},
   "outputs": [],
   "source": [
    "dap_url = \"https://dapds00.nci.org.au/thredds/dodsC/fx3/model_data/gbr4_bgc_GBR4_H2p0_B2p0_Chyd_Dcrt.ncml\""
   ]
  },
  {
   "cell_type": "markdown",
   "metadata": {},
   "source": [
    "To simulate the true colour, we need to tell the NCWPS endpoint what variables to use for various wavelengths. This can be done as below:"
   ]
  },
  {
   "cell_type": "code",
   "execution_count": 3,
   "metadata": {},
   "outputs": [],
   "source": [
    "variables='R_645,R_555,R_470'"
   ]
  },
  {
   "cell_type": "markdown",
   "metadata": {},
   "source": [
    "\n",
    "The GetSurfacePlotSimulatedTrueColour NCWPS endpoint next needs time constraints to be set. For this example, let us simple consider data from Jan 1 2021 to Jan 2 2021, as this short timeframe reduces the dataset size.\n"
   ]
  },
  {
   "cell_type": "code",
   "execution_count": 4,
   "metadata": {},
   "outputs": [],
   "source": [
    "min_time = 20160101000000\n",
    "max_time = 20160102000000"
   ]
  },
  {
   "cell_type": "markdown",
   "metadata": {},
   "source": [
    "Finally, lets specify what format we want to see output in:"
   ]
  },
  {
   "cell_type": "code",
   "execution_count": 5,
   "metadata": {},
   "outputs": [],
   "source": [
    "format='gif'"
   ]
  },
  {
   "cell_type": "markdown",
   "metadata": {},
   "source": [
    "Now putting these variables into a single NCWPS request:"
   ]
  },
  {
   "cell_type": "code",
   "execution_count": 6,
   "metadata": {},
   "outputs": [
    {
     "name": "stdout",
     "output_type": "stream",
     "text": [
      "https://data.ereefs.info/ncwps/?ServiceProvider=&metapath=&Service=WPS&Request=Execute&Version=1.0.0&Identifier=GetSurfacePlotSimulatedTrueColour&DataInputs=dap_url=https://dapds00.nci.org.au/thredds/dodsC/fx3/model_data/gbr4_bgc_GBR4_H2p0_B2p0_Chyd_Dcrt.ncml;variables=R_645,R_555,R_470;min_time=20160101000000;max_time=20160102000000;format=gif\n"
     ]
    }
   ],
   "source": [
    "true_colour_url = \"{}dap_url={};variables={};min_time={};max_time={};format={}\".format(base_url,dap_url,variables, min_time, max_time, format)\n",
    "\n",
    "print(true_colour_url)"
   ]
  },
  {
   "cell_type": "markdown",
   "metadata": {},
   "source": [
    "Opening this link and waiting for its response will return a newly generated url that contains our output, as per below\n",
    "\n",
    "![Alt text](image-1.png)"
   ]
  }
 ],
 "metadata": {
  "kernelspec": {
   "display_name": "py3_parcels",
   "language": "python",
   "name": "python3"
  },
  "language_info": {
   "codemirror_mode": {
    "name": "ipython",
    "version": 3
   },
   "file_extension": ".py",
   "mimetype": "text/x-python",
   "name": "python",
   "nbconvert_exporter": "python",
   "pygments_lexer": "ipython3",
   "version": "3.9.16"
  }
 },
 "nbformat": 4,
 "nbformat_minor": 2
}
