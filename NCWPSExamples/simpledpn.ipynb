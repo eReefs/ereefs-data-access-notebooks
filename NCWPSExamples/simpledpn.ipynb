{
 "cells": [
  {
   "cell_type": "markdown",
   "metadata": {},
   "source": [
    "# Simple NCWPS Example"
   ]
  },
  {
   "cell_type": "markdown",
   "metadata": {},
   "source": [
    "NcWPS stands for Netcdf Web Processing Service.    It is an OGC Web Processing Service that is able to perform some useful advanced data-extractions on NetCDF model results data that has been exposed via an NcWMS Endpoint (e.g. via THREDDS or Hyrax+NcWMS2).  The tasks include:\n",
    "\n",
    "    Extract a timeseries for a layer at a single (lat, lon, depth) coordinate\n",
    "    Extract a depth profile for a layer at a single (lat, lon, time) coordinate\n",
    "    Extract a transect for a layer at a single (depth, time) coordinate for a specified series of (lat,lon) points.\n",
    "\n",
    "\n",
    "The NCWPS works by constructing a request URL around a base dap data url. For the following examples, our base dap URL is the GBR1 \n",
    "data available from the eReefs visportal.\n"
   ]
  },
  {
   "cell_type": "code",
   "execution_count": 3,
   "metadata": {},
   "outputs": [],
   "source": [
    "base_url = \"https://dapds00.nci.org.au/thredds/dodsC/fx3/GBR1_H2p0_B3p2_Cfur_Dnrt.ncml\""
   ]
  },
  {
   "cell_type": "markdown",
   "metadata": {},
   "source": [
    "Below are some simple examples of the different capabilities we can call via the NCWPS. Please see the true color file in this folder for a run through of how the NCWPS url's are constructed."
   ]
  },
  {
   "cell_type": "markdown",
   "metadata": {},
   "source": [
    "### Get Dimensions\n",
    "\n",
    "Returns the available spatial and temporal dimensions for the target service"
   ]
  },
  {
   "cell_type": "code",
   "execution_count": 4,
   "metadata": {},
   "outputs": [
    {
     "name": "stdout",
     "output_type": "stream",
     "text": [
      "Click this URL to see the example output of the GetDimensions NCWPS endpoint: https://data.ereefs.info/ncwps/?ServiceProvider=&metapath=&Service=WPS&Request=Execute&Version=1.0.0&Identifier=GetDimensions&DataInputs=dap_url=https://dapds00.nci.org.au/thredds/dodsC/fx3/GBR1_H2p0_B3p2_Cfur_Dnrt.ncml\n"
     ]
    }
   ],
   "source": [
    "url = \"https://data.ereefs.info/ncwps/?ServiceProvider=&metapath=&Service=WPS&Request=Execute&Version=1.0.0&Identifier=GetDimensions&DataInputs=dap_url=https://dapds00.nci.org.au/thredds/dodsC/fx3/GBR1_H2p0_B3p2_Cfur_Dnrt.ncml\"\n",
    "print('Click this URL to see the example output of the GetDimensions NCWPS endpoint: {}'.format(url))"
   ]
  },
  {
   "cell_type": "markdown",
   "metadata": {},
   "source": [
    "We can see that clicking the above link returns the following payload\n",
    "\n",
    "{\"status\": \"SUCCESS\", \"data\": {\"bounds\": {\"xmin\": 142.020371, \"ymin\": -28.589904, \"xmax\": 155.372974, \"ymax\": -7.4053975}, \"times\": [\"2019-10-16T02:00:00/2019-11-17T02:00:00/P1DT0H0M0S\", \"2019-11-22T02:00:00/2020-01-11T02:00:00/P5DT0H0M0S\", \"2020-01-12T02:00:00/2023-10-29T02:00:00/P1DT0H0M0S\"], \"timezone\": \"Z\", \"dataset_timezone\": \"+10:00\", \"elevations\": {\"zc\": [-3885.0, -3660.0, -3430.0, -3195.0, -2965.0, -2730.0, -2495.0, -2265.0, -2035.0, -1805.0, -1575.0, -1345.0, -1115.0, -960.0, -860.0, -750.0, -655.0, -570.0, -495.0, -430.0, -370.0, -315.0, -270.0, -230.0, -195.0, -165.0, -140.0, -120.0, -103.0, -88.0, -73.0, -60.0, -49.0, -39.5, -31.0, -24.0, -18.0, -13.0, -9.0, -5.35, -2.35, -0.5, 0.5, 1.5]}}}"
   ]
  },
  {
   "cell_type": "markdown",
   "metadata": {},
   "source": [
    "To understand how this request was constructed, the url can be broken down into sections, as is done in the truecolour example. \n",
    "\n",
    "base_url : This is the part of the URL that is telling the ncwps what service to call: "
   ]
  },
  {
   "cell_type": "code",
   "execution_count": 5,
   "metadata": {},
   "outputs": [],
   "source": [
    "base_url = \"https://data.ereefs.info/ncwps/?ServiceProvider=&metapath=&Service=WPS&Request=Execute&Version=1.0.0&Identifier=GetDimensions\""
   ]
  },
  {
   "cell_type": "markdown",
   "metadata": {},
   "source": [
    "dap_url: This shows which openDAP dataset we want to pass to the NCWPS endpoint we are hitting. "
   ]
  },
  {
   "cell_type": "code",
   "execution_count": 6,
   "metadata": {},
   "outputs": [],
   "source": [
    "DataInputs=\"dap_url=https://dapds00.nci.org.au/thredds/dodsC/fx3/GBR1_H2p0_B3p2_Cfur_Dnrt.ncml\""
   ]
  },
  {
   "cell_type": "markdown",
   "metadata": {},
   "source": [
    "It is clear that together these two elements define a payload that is to be parsed to our service which will execute the GetDimensions function.\n",
    "\n",
    "Sometimes, the NCWMS functions need additional fields, such as variables and format specifications. More example URL's are provided for some of the core ncwps functionality below."
   ]
  }
 ],
 "metadata": {
  "kernelspec": {
   "display_name": "py3_parcels",
   "language": "python",
   "name": "python3"
  },
  "language_info": {
   "codemirror_mode": {
    "name": "ipython",
    "version": 3
   },
   "file_extension": ".py",
   "mimetype": "text/x-python",
   "name": "python",
   "nbconvert_exporter": "python",
   "pygments_lexer": "ipython3",
   "version": "3.9.16"
  }
 },
 "nbformat": 4,
 "nbformat_minor": 2
}
